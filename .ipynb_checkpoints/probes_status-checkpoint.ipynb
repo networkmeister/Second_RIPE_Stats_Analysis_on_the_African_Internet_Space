{
 "cells": [
  {
   "cell_type": "markdown",
   "metadata": {},
   "source": [
    "Simple script to fetch all the latest measurement probe data in Africa, create seperate csv files per country, and cocatenate into a single csv file.\n",
    "\n",
    "***This notebook, and csv files must be in the same directory***\n",
    "\n",
    "***Delete all the csv files in the directory if you need to run this script again***"
   ]
  },
  {
   "cell_type": "code",
   "execution_count": 1,
   "metadata": {},
   "outputs": [],
   "source": [
    "import requests\n",
    "import json\n",
    "from pandas.io.json import json_normalize \n",
    "import time\n",
    "from datetime import date\n",
    "import pandas as pd\n",
    "import _thread\n",
    "import matplotlib.pyplot as plt\n",
    "import matplotlib.dates\n",
    "import matplotlib as mpl\n",
    "from datetime import datetime\n",
    "import numpy as np\n",
    "import csv\n",
    "import os\n",
    "import glob\n",
    "\n",
    "\n",
    "os.chdir('/home/tunde/RESEARCH_&_INNOVATION/RIPE_Atlas_Analysis/All_Countries/')\n",
    "\n",
    "%matplotlib inline\n",
    "\n",
    "#set ggplot style\n",
    "plt.style.use('default')\n",
    "plt.rcParams.update({'font.size': 14})\n",
    "\n",
    "ATLAS_PROBES_URI = \"https://stat.ripe.net/data/atlas-probes/data.json?resource=\"\n",
    "ATLAS_DEPLOYMENT_URI = \"https://stat.ripe.net/data/atlas-probe-deployment/data.json?resource=\"\n",
    "\n",
    "ccs = [\n",
    "'EG', 'BJ', 'CI', 'CV', 'GH', 'GM', 'GN', 'GW', 'AO', 'CF', 'CG', 'CM', 'GA', 'GQ', 'TD', 'BI', 'DJ', 'ER', 'ET', 'KM', 'BW', 'MA', 'SD', 'TN', 'LR', 'ML', 'MR', 'NE', 'NG', 'SL', 'SN', 'TG', 'ST', 'KE', 'MG', 'MU', 'MW', 'MZ', 'RE', 'RW', 'SC', 'SO', 'UG', 'LS', 'NA', 'SZ', 'ZA', 'DZ', 'EH', 'LY', 'BF', 'SH', 'CD', 'TZ', 'YT', 'ZM', 'ZW']"
   ]
  },
  {
   "cell_type": "markdown",
   "metadata": {},
   "source": [
    "Function to get probe status per country and create a seperate csv file per country in the list ***ccs*** above"
   ]
  },
  {
   "cell_type": "code",
   "execution_count": 2,
   "metadata": {},
   "outputs": [],
   "source": [
    "def getDeployment(cc):\n",
    "    \n",
    "    test_url = ATLAS_DEPLOYMENT_URI + cc\n",
    "    \n",
    "    df = pd.DataFrame()\n",
    "    \n",
    "    try:\n",
    "        r = requests.get(test_url)\n",
    "    except requests.exceptions.RequestException as e:\n",
    "        return \"Request FAILED\"\n",
    "    \n",
    "    try:\n",
    "        data = json.loads(r.text)['data']['deployments'][0]['deployment']\n",
    "        df = json_normalize(data)\n",
    "        df['cc'] = cc\n",
    "    except KeyError as e:\n",
    "        pass\n",
    "    \n",
    "    return df"
   ]
  },
  {
   "cell_type": "code",
   "execution_count": null,
   "metadata": {},
   "outputs": [],
   "source": []
  }
 ],
 "metadata": {
  "kernelspec": {
   "display_name": "Python 3",
   "language": "python",
   "name": "python3"
  },
  "language_info": {
   "codemirror_mode": {
    "name": "ipython",
    "version": 3
   },
   "file_extension": ".py",
   "mimetype": "text/x-python",
   "name": "python",
   "nbconvert_exporter": "python",
   "pygments_lexer": "ipython3",
   "version": "3.7.3"
  }
 },
 "nbformat": 4,
 "nbformat_minor": 4
}
