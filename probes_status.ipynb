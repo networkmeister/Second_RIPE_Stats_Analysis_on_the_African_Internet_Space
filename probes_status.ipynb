{
 "cells": [
  {
   "cell_type": "markdown",
   "metadata": {},
   "source": [
    "Simple script to fetch all the latest measurement probe data in Africa, create seperate csv files per country, and cocatenate into a single csv file.\n",
    "\n",
    "***This notebook, and csv files must be in the same directory***\n",
    "\n",
    "***Delete all the csv files in the directory if you need to run this script again***"
   ]
  },
  {
   "cell_type": "code",
   "execution_count": 10,
   "metadata": {},
   "outputs": [],
   "source": [
    "import requests\n",
    "import json\n",
    "from pandas.io.json import json_normalize \n",
    "import time\n",
    "from datetime import date\n",
    "import pandas as pd\n",
    "import _thread\n",
    "import matplotlib.pyplot as plt\n",
    "import matplotlib.dates\n",
    "import matplotlib as mpl\n",
    "from datetime import datetime\n",
    "import numpy as np\n",
    "import csv\n",
    "import os\n",
    "import glob\n",
    "\n",
    "\n",
    "os.chdir('/home/tunde/GIT_PROJECTS/RIPE_ANALYSIS/African_Probes_Status')\n",
    "\n",
    "%matplotlib inline\n",
    "\n",
    "#set ggplot style\n",
    "plt.style.use('default')\n",
    "plt.rcParams.update({'font.size': 14})\n",
    "\n",
    "ATLAS_PROBES_URI = \"https://stat.ripe.net/data/atlas-probes/data.json?resource=\"\n",
    "ATLAS_DEPLOYMENT_URI = \"https://stat.ripe.net/data/atlas-probe-deployment/data.json?resource=\"\n",
    "\n",
    "ccs = [\n",
    "'EG', 'BJ', 'CI', 'CV', 'GH', 'GM', 'GN', 'GW', 'AO', 'CF', 'CG', 'CM', 'GA', 'GQ', 'TD', 'BI', 'DJ', 'ER', 'ET', 'KM', 'BW', 'MA', 'SD', 'TN', 'LR', 'ML', 'MR', 'NE', 'NG', 'SL', 'SN', 'TG', 'ST', 'KE', 'MG', 'MU', 'MW', 'MZ', 'RE', 'RW', 'SC', 'SO', 'UG', 'LS', 'NA', 'SZ', 'ZA', 'DZ', 'EH', 'LY', 'BF', 'SH', 'CD', 'TZ', 'YT', 'ZM', 'ZW']"
   ]
  },
  {
   "cell_type": "markdown",
   "metadata": {},
   "source": [
    "## Function to get probe status per country and create a seperate csv file per country in the list ***ccs*** above"
   ]
  },
  {
   "cell_type": "code",
   "execution_count": 5,
   "metadata": {},
   "outputs": [],
   "source": [
    "def getDeployment(cc):\n",
    "    \n",
    "    test_url = ATLAS_DEPLOYMENT_URI + cc\n",
    "    \n",
    "    df = pd.DataFrame()\n",
    "    \n",
    "    try:\n",
    "        r = requests.get(test_url)\n",
    "    except requests.exceptions.RequestException as e:\n",
    "        return \"Request FAILED\"\n",
    "    \n",
    "    try:\n",
    "        data = json.loads(r.text)['data']['deployments'][0]['deployment']\n",
    "        df = json_normalize(data)\n",
    "        df['cc'] = cc\n",
    "    except KeyError as e:\n",
    "        pass\n",
    "    \n",
    "    return df"
   ]
  },
  {
   "cell_type": "markdown",
   "metadata": {},
   "source": [
    "## Change directory and generate probe data for each individual country in Africa"
   ]
  },
  {
   "cell_type": "code",
   "execution_count": null,
   "metadata": {},
   "outputs": [],
   "source": [
    "for cc in ccs:\n",
    "        os.chdir('/home/tunde/GIT_PROJECTS/RIPE_ANALYSIS/African_Probes_Status/csv_data_files')\n",
    "        print(cc)\n",
    "        a = getDeployment(cc)\n",
    "        a.to_csv('getDep__'+ cc +'__latest_deployments.csv')"
   ]
  },
  {
   "cell_type": "markdown",
   "metadata": {},
   "source": [
    "## Merge the csv files created above\n"
   ]
  },
  {
   "cell_type": "code",
   "execution_count": 8,
   "metadata": {},
   "outputs": [
    {
     "name": "stdout",
     "output_type": "stream",
     "text": [
      "csv files successfully merged\n"
     ]
    }
   ],
   "source": [
    "extension = 'csv'\n",
    "\n",
    "os.chdir('/home/tunde/GIT_PROJECTS/RIPE_ANALYSIS/African_Probes_Status/csv_data_files')\n",
    "\n",
    "all_filenames = [i for i in glob.glob('*.{}'.format(extension))]\n",
    "\n",
    "#combine all files in the list\n",
    "combined_csv = pd.concat([pd.read_csv(f) for f in all_filenames ])\n",
    "\n",
    "#export to csv\n",
    "combined_csv.to_csv( \"2020_africa_probes_deployment.csv\", index=False, encoding='utf-8-sig')\n",
    "\n",
    "print('csv files successfully merged')"
   ]
  },
  {
   "cell_type": "code",
   "execution_count": null,
   "metadata": {},
   "outputs": [],
   "source": [
    "df = pd.read_csv('/home/tunde/GIT_PROJECTS/RIPE_ANALYSIS/African_Probes_Status/csv_data_files/2020_africa_probes_deployment.csv')\n",
    "#df = df.iloc[:,[0,1,2,3,4,5,6]]\n",
    "df.head(5)"
   ]
  },
  {
   "cell_type": "markdown",
   "metadata": {},
   "source": [
    "## Rename the columns and confirm"
   ]
  },
  {
   "cell_type": "code",
   "execution_count": 15,
   "metadata": {},
   "outputs": [
    {
     "data": {
      "text/html": [
       "<div>\n",
       "<style scoped>\n",
       "    .dataframe tbody tr th:only-of-type {\n",
       "        vertical-align: middle;\n",
       "    }\n",
       "\n",
       "    .dataframe tbody tr th {\n",
       "        vertical-align: top;\n",
       "    }\n",
       "\n",
       "    .dataframe thead th {\n",
       "        text-align: right;\n",
       "    }\n",
       "</style>\n",
       "<table border=\"1\" class=\"dataframe\">\n",
       "  <thead>\n",
       "    <tr style=\"text-align: right;\">\n",
       "      <th></th>\n",
       "      <th>date</th>\n",
       "      <th>abandoned</th>\n",
       "      <th>connected</th>\n",
       "      <th>disconnected</th>\n",
       "      <th>neverseen</th>\n",
       "      <th>cc</th>\n",
       "    </tr>\n",
       "  </thead>\n",
       "  <tbody>\n",
       "    <tr>\n",
       "      <th>0</th>\n",
       "      <td>2020-10-20</td>\n",
       "      <td>7.0</td>\n",
       "      <td>1.0</td>\n",
       "      <td>0.0</td>\n",
       "      <td>3.0</td>\n",
       "      <td>CD</td>\n",
       "    </tr>\n",
       "    <tr>\n",
       "      <th>1</th>\n",
       "      <td>2020-10-19</td>\n",
       "      <td>7.0</td>\n",
       "      <td>1.0</td>\n",
       "      <td>0.0</td>\n",
       "      <td>3.0</td>\n",
       "      <td>CD</td>\n",
       "    </tr>\n",
       "    <tr>\n",
       "      <th>2</th>\n",
       "      <td>2020-10-18</td>\n",
       "      <td>7.0</td>\n",
       "      <td>1.0</td>\n",
       "      <td>0.0</td>\n",
       "      <td>3.0</td>\n",
       "      <td>CD</td>\n",
       "    </tr>\n",
       "    <tr>\n",
       "      <th>3</th>\n",
       "      <td>2020-10-17</td>\n",
       "      <td>7.0</td>\n",
       "      <td>1.0</td>\n",
       "      <td>0.0</td>\n",
       "      <td>3.0</td>\n",
       "      <td>CD</td>\n",
       "    </tr>\n",
       "    <tr>\n",
       "      <th>4</th>\n",
       "      <td>2020-10-16</td>\n",
       "      <td>7.0</td>\n",
       "      <td>1.0</td>\n",
       "      <td>0.0</td>\n",
       "      <td>3.0</td>\n",
       "      <td>CD</td>\n",
       "    </tr>\n",
       "  </tbody>\n",
       "</table>\n",
       "</div>"
      ],
      "text/plain": [
       "         date  abandoned  connected  disconnected  neverseen  cc\n",
       "0  2020-10-20        7.0        1.0           0.0        3.0  CD\n",
       "1  2020-10-19        7.0        1.0           0.0        3.0  CD\n",
       "2  2020-10-18        7.0        1.0           0.0        3.0  CD\n",
       "3  2020-10-17        7.0        1.0           0.0        3.0  CD\n",
       "4  2020-10-16        7.0        1.0           0.0        3.0  CD"
      ]
     },
     "execution_count": 15,
     "metadata": {},
     "output_type": "execute_result"
    }
   ],
   "source": [
    "df = pd.read_csv('/home/tunde/GIT_PROJECTS/RIPE_ANALYSIS/African_Probes_Status/csv_data_files/2020_africa_probes_deployment.csv')\n",
    "df.rename(columns = {'statuses.abandoned': 'abandoned', 'statuses.connected': 'connected', 'statuses.disconnected': 'disconnected', 'statuses.neverseen': 'neverseen'}, inplace = True)\n",
    "df.drop('Unnamed: 0', axis='columns', inplace=True)\n",
    "df = df.iloc[:,[0,1,2,3,4,5,]]\n",
    "df.head()"
   ]
  },
  {
   "cell_type": "markdown",
   "metadata": {},
   "source": [
    "## Group by date and reset index"
   ]
  },
  {
   "cell_type": "code",
   "execution_count": 16,
   "metadata": {},
   "outputs": [
    {
     "data": {
      "text/html": [
       "<div>\n",
       "<style scoped>\n",
       "    .dataframe tbody tr th:only-of-type {\n",
       "        vertical-align: middle;\n",
       "    }\n",
       "\n",
       "    .dataframe tbody tr th {\n",
       "        vertical-align: top;\n",
       "    }\n",
       "\n",
       "    .dataframe thead th {\n",
       "        text-align: right;\n",
       "    }\n",
       "</style>\n",
       "<table border=\"1\" class=\"dataframe\">\n",
       "  <thead>\n",
       "    <tr style=\"text-align: right;\">\n",
       "      <th></th>\n",
       "      <th>date</th>\n",
       "      <th>neverseen</th>\n",
       "      <th>abandoned</th>\n",
       "      <th>connected</th>\n",
       "      <th>disconnected</th>\n",
       "    </tr>\n",
       "  </thead>\n",
       "  <tbody>\n",
       "    <tr>\n",
       "      <th>2303</th>\n",
       "      <td>2020-10-17</td>\n",
       "      <td>108.0</td>\n",
       "      <td>749.0</td>\n",
       "      <td>210.0</td>\n",
       "      <td>57.0</td>\n",
       "    </tr>\n",
       "    <tr>\n",
       "      <th>2304</th>\n",
       "      <td>2020-10-18</td>\n",
       "      <td>108.0</td>\n",
       "      <td>749.0</td>\n",
       "      <td>210.0</td>\n",
       "      <td>57.0</td>\n",
       "    </tr>\n",
       "    <tr>\n",
       "      <th>2305</th>\n",
       "      <td>2020-10-19</td>\n",
       "      <td>108.0</td>\n",
       "      <td>749.0</td>\n",
       "      <td>207.0</td>\n",
       "      <td>60.0</td>\n",
       "    </tr>\n",
       "    <tr>\n",
       "      <th>2306</th>\n",
       "      <td>2020-10-20</td>\n",
       "      <td>108.0</td>\n",
       "      <td>749.0</td>\n",
       "      <td>199.0</td>\n",
       "      <td>68.0</td>\n",
       "    </tr>\n",
       "    <tr>\n",
       "      <th>2307</th>\n",
       "      <td>2020-10-20T00:00:00</td>\n",
       "      <td>0.0</td>\n",
       "      <td>0.0</td>\n",
       "      <td>0.0</td>\n",
       "      <td>0.0</td>\n",
       "    </tr>\n",
       "  </tbody>\n",
       "</table>\n",
       "</div>"
      ],
      "text/plain": [
       "                     date  neverseen  abandoned  connected  disconnected\n",
       "2303           2020-10-17      108.0      749.0      210.0          57.0\n",
       "2304           2020-10-18      108.0      749.0      210.0          57.0\n",
       "2305           2020-10-19      108.0      749.0      207.0          60.0\n",
       "2306           2020-10-20      108.0      749.0      199.0          68.0\n",
       "2307  2020-10-20T00:00:00        0.0        0.0        0.0           0.0"
      ]
     },
     "execution_count": 16,
     "metadata": {},
     "output_type": "execute_result"
    }
   ],
   "source": [
    "df_agg = df.groupby(['date'])['neverseen', 'abandoned','connected','disconnected'].sum().reset_index()\n",
    "#df_agg.set_index('date')\n",
    "df_agg.tail()\n",
    "#df_agg.shape"
   ]
  },
  {
   "cell_type": "markdown",
   "metadata": {},
   "source": [
    "## We group the rows by date and sum the statuses before plotting\n",
    "\n",
    "## Let's split and re-merge the dataframes"
   ]
  },
  {
   "cell_type": "code",
   "execution_count": 17,
   "metadata": {},
   "outputs": [
    {
     "data": {
      "text/html": [
       "<div>\n",
       "<style scoped>\n",
       "    .dataframe tbody tr th:only-of-type {\n",
       "        vertical-align: middle;\n",
       "    }\n",
       "\n",
       "    .dataframe tbody tr th {\n",
       "        vertical-align: top;\n",
       "    }\n",
       "\n",
       "    .dataframe thead th {\n",
       "        text-align: right;\n",
       "    }\n",
       "</style>\n",
       "<table border=\"1\" class=\"dataframe\">\n",
       "  <thead>\n",
       "    <tr style=\"text-align: right;\">\n",
       "      <th></th>\n",
       "      <th>date</th>\n",
       "      <th>amount</th>\n",
       "      <th>type</th>\n",
       "    </tr>\n",
       "  </thead>\n",
       "  <tbody>\n",
       "    <tr>\n",
       "      <th>0</th>\n",
       "      <td>2014-01-01T00:00:00</td>\n",
       "      <td>0.0</td>\n",
       "      <td>neverseen</td>\n",
       "    </tr>\n",
       "    <tr>\n",
       "      <th>1</th>\n",
       "      <td>2014-06-13</td>\n",
       "      <td>0.0</td>\n",
       "      <td>neverseen</td>\n",
       "    </tr>\n",
       "    <tr>\n",
       "      <th>2</th>\n",
       "      <td>2014-06-14</td>\n",
       "      <td>0.0</td>\n",
       "      <td>neverseen</td>\n",
       "    </tr>\n",
       "    <tr>\n",
       "      <th>3</th>\n",
       "      <td>2014-06-15</td>\n",
       "      <td>0.0</td>\n",
       "      <td>neverseen</td>\n",
       "    </tr>\n",
       "    <tr>\n",
       "      <th>4</th>\n",
       "      <td>2014-06-16</td>\n",
       "      <td>0.0</td>\n",
       "      <td>neverseen</td>\n",
       "    </tr>\n",
       "  </tbody>\n",
       "</table>\n",
       "</div>"
      ],
      "text/plain": [
       "                  date  amount       type\n",
       "0  2014-01-01T00:00:00     0.0  neverseen\n",
       "1           2014-06-13     0.0  neverseen\n",
       "2           2014-06-14     0.0  neverseen\n",
       "3           2014-06-15     0.0  neverseen\n",
       "4           2014-06-16     0.0  neverseen"
      ]
     },
     "execution_count": 17,
     "metadata": {},
     "output_type": "execute_result"
    }
   ],
   "source": [
    "df_neverseen = df_agg.iloc[:,[0,1]]\n",
    "df_neverseen.columns = ['date','amount']\n",
    "df_neverseen= df_neverseen.assign(type = 'neverseen')\n",
    "\n",
    "df_abandoned = df_agg.iloc[:,[0,2]]\n",
    "df_abandoned.columns = ['date','amount']\n",
    "df_abandoned = df_abandoned.assign(type = 'abandoned')\n",
    "\n",
    "df_connected = df_agg.iloc[:,[0,3]]\n",
    "df_connected.columns = ['date','amount']\n",
    "df_connected = df_connected.assign(type = 'connected')\n",
    "\n",
    "df_disconnected = df_agg.iloc[:,[0,4]]\n",
    "df_disconnected.columns = ['date','amount']\n",
    "df_disconnected = df_disconnected.assign(type = 'disconnected')\n",
    "\n",
    "df_agg2 = pd.concat([df_neverseen, df_abandoned, df_connected, df_disconnected])\n",
    "#df_agg2.set_index('date', inplace=True)\n",
    "df_agg2.head()"
   ]
  },
  {
   "cell_type": "markdown",
   "metadata": {},
   "source": [
    "## Plot"
   ]
  },
  {
   "cell_type": "code",
   "execution_count": 18,
   "metadata": {},
   "outputs": [
    {
     "data": {
      "image/png": "[encoded data removed]",
      "text/plain": [
       "<Figure size 1000x700 with 1 Axes>"
      ]
     },
     "metadata": {},
     "output_type": "display_data"
    }
   ],
   "source": [
    "# plot data\n",
    "fig, ax = plt.subplots(figsize=(10,7))\n",
    "# use unstack()\n",
    "df_agg2.date = pd.to_datetime(df_agg2['date'], format='%Y-%m-%d')\n",
    "\n",
    "styles = ['b','g','y', 'r']\n",
    "\n",
    "df_agg2.groupby(['date','type']).sum()['amount'].unstack()\n",
    "\n",
    "df_agg2.groupby(['date','type']).sum()['amount'].unstack().plot(style=styles, ax=ax)\n",
    "ax.set_xlabel('Date')\n",
    "ax.set_ylabel('Number of probes')\n",
    "\n",
    "ax.xaxis.set_major_locator(matplotlib.dates.YearLocator())\n",
    "ax.xaxis.set_minor_locator(matplotlib.dates.MonthLocator((1,4,7,10)))\n",
    "\n",
    "ax.xaxis.set_major_formatter(matplotlib.dates.DateFormatter(\"\\n%Y\"))\n",
    "#ax.xaxis.set_minor_formatter(matplotlib.dates.DateFormatter(\"%b\"))\n",
    "plt.setp(ax.get_xticklabels(), rotation=0, ha=\"center\")\n",
    "ax.tick_params(axis=\"x\", which=\"both\", length=4)\n",
    "\n",
    "plt.tick_params(labelsize=14)\n",
    "#plt.savefig(\"data/plots/probes_deployment_timeseries.pdf\", bbox_inches=\"tight\")\n",
    "plt.show()"
   ]
  },
  {
   "cell_type": "markdown",
   "metadata": {},
   "source": [
    "## Function to get probes "
   ]
  },
  {
   "cell_type": "code",
   "execution_count": 27,
   "metadata": {},
   "outputs": [],
   "source": [
    "def getProbes(cc):\n",
    "    \n",
    "    test_url = ATLAS_PROBES_URI + cc\n",
    "    \n",
    "    df = pd.DataFrame()\n",
    "    \n",
    "    try:\n",
    "        r = requests.get(test_url)\n",
    "    except requests.exceptions.RequestException as e:\n",
    "        return \"Request FAILED\"\n",
    "    \n",
    "    try:\n",
    "        data = json.loads(r.text)['data']['probes']\n",
    "        df = json_normalize(data)\n",
    "        df['cc'] = cc\n",
    "    except KeyError as e:\n",
    "        pass\n",
    "    \n",
    "    return df\n"
   ]
  },
  {
   "cell_type": "markdown",
   "metadata": {},
   "source": [
    "## Change directory and generate probe data for each individual country in Africa"
   ]
  },
  {
   "cell_type": "code",
   "execution_count": null,
   "metadata": {},
   "outputs": [],
   "source": [
    "for cc in ccs:\n",
    "        os.chdir('/home/tunde/GIT_PROJECTS/RIPE_ANALYSIS/African_Probes_Status/csv_data_files_probes')\n",
    "        print(cc)\n",
    "        a = getProbes(cc)\n",
    "        a.to_csv(cc +'__latest_Probe_deployments.csv')"
   ]
  },
  {
   "cell_type": "markdown",
   "metadata": {},
   "source": [
    "## Merge files"
   ]
  },
  {
   "cell_type": "code",
   "execution_count": 29,
   "metadata": {},
   "outputs": [
    {
     "name": "stdout",
     "output_type": "stream",
     "text": [
      "csv files successfully merged\n"
     ]
    },
    {
     "name": "stderr",
     "output_type": "stream",
     "text": [
      "/home/tunde/anaconda3/lib/python3.7/site-packages/ipykernel_launcher.py:8: FutureWarning: Sorting because non-concatenation axis is not aligned. A future version\n",
      "of pandas will change to not sort by default.\n",
      "\n",
      "To accept the future behavior, pass 'sort=False'.\n",
      "\n",
      "To retain the current behavior and silence the warning, pass 'sort=True'.\n",
      "\n",
      "  \n"
     ]
    }
   ],
   "source": [
    "extension = 'csv'\n",
    "\n",
    "os.chdir('/home/tunde/GIT_PROJECTS/RIPE_ANALYSIS/African_Probes_Status/csv_data_files_probes')\n",
    "\n",
    "all_filenames = [i for i in glob.glob('*.{}'.format(extension))]\n",
    "\n",
    "#combine all files in the list\n",
    "combined_csv = pd.concat([pd.read_csv(f) for f in all_filenames ])\n",
    "\n",
    "#export to csv\n",
    "combined_csv.to_csv( \"2020_africa_probes.csv\", index=False, encoding='utf-8-sig')\n",
    "\n",
    "print('csv files successfully merged')"
   ]
  },
  {
   "cell_type": "markdown",
   "metadata": {},
   "source": [
    "## Geographical Distribution of connected probes"
   ]
  },
  {
   "cell_type": "code",
   "execution_count": 36,
   "metadata": {},
   "outputs": [
    {
     "data": {
      "application/vnd.plotly.v1+json": {
       "config": {
        "plotlyServerURL": "https://plot.ly"
       },
       "data": [
        {
         "lat": [
          -1.1985,
          -1.2915,
          -0.1125,
          -1.2885,
          -4.0805,
          -1.2925,
          -1.2885,
          -4.0105,
          -1.2885,
          -1.2985,
          -1.2925,
          -1.2885,
          -1.2905,
          0.5075,
          -4.0415,
          -1.2905,
          -1.2015,
          6.1685,
          6.1275,
          -3.3805,
          -3.3925,
          -22.5615,
          -22.5705,
          -22.5595,
          30.0105,
          30.4615,
          29.9575,
          -21.2415,
          -20.9115,
          -20.9495,
          -20.9495,
          -20.9095,
          -20.9995,
          -20.8895,
          -21.3625,
          -21.3615,
          -20.9525,
          -20.8895,
          -21.1185,
          -21.0095,
          -20.9325,
          -20.9015,
          -20.9515,
          -20.9325,
          -20.9015,
          -21.2985,
          -18.9115,
          -18.7115,
          -18.9025,
          -18.9315,
          -15.3885,
          -15.4195,
          14.6715,
          14.7585,
          14.7285,
          14.7315,
          14.6975,
          -12.4995,
          -24.6595,
          -24.6585,
          -24.6595,
          -24.6325,
          -17.8305,
          -4.3885,
          5.6495,
          5.5975,
          6.6785,
          5.5575,
          0.3115,
          0.3085,
          0.3615,
          0.4215,
          -33.9815,
          -26.1515,
          -33.9305,
          -33.9325,
          -26.1425,
          -34.0115,
          -33.3085,
          -26.1415,
          -29.7295,
          -26.1385,
          -33.9195,
          -26.1385,
          -26.1385,
          -26.1385,
          -26.0905,
          -29.7295,
          -33.9205,
          -33.8995,
          -25.7295,
          -25.8785,
          -26.2315,
          -33.9125,
          -33.9425,
          -29.1085,
          -33.8895,
          -33.9305,
          -26.1385,
          -25.8605,
          -34.0005,
          -25.6625,
          -33.8995,
          -26.0925,
          -28.7425,
          -25.9785,
          -27.0025,
          -33.3085,
          -33.9525,
          -29.8585,
          -26.0405,
          -33.9725,
          -33.9525,
          -25.8125,
          -29.7925,
          -34.0705,
          -26.1385,
          -25.9985,
          -33.9615,
          -26.1125,
          -34.4215,
          -26.5215,
          -34.1425,
          -29.5795,
          -33.9195,
          -26.0005,
          -34.0805,
          -33.9225,
          -33.9205,
          -28.5495,
          -29.6215,
          -29.6015,
          -26.0615,
          -26.2025,
          -33.6385,
          -29.7885,
          -29.7815,
          -29.7215,
          -29.7805,
          -33.9595,
          -26.0785,
          -26.0815,
          -33.9515,
          -33.8095,
          -26.1425,
          -25.9295,
          -33.9005,
          -26.1415,
          -33.9195,
          -26.1005,
          -6.8105,
          -6.7915,
          -3.3695,
          -6.7705,
          -6.8215,
          -6.7885,
          -6.7885,
          -6.7705,
          -6.8215,
          15.5805,
          15.5315,
          15.6485,
          12.3715,
          12.3705,
          12.3715,
          12.3695,
          12.3675,
          36.8205,
          36.7975,
          36.4385,
          35.6595,
          36.7995,
          -15.7925,
          -13.9725,
          33.9695,
          30.4095,
          8.9885,
          8.9885,
          8.9795,
          9.0085,
          -20.2385,
          -19.6825,
          -20.3205,
          -20.1795,
          -20.3505,
          11.5715,
          4.0905,
          3.8575,
          -25.9795,
          -25.9695,
          -25.9785,
          -18.6685,
          -25.9685,
          -25.9485,
          9.0775,
          -4.6485,
          36.7615,
          36.7595,
          -1.9425,
          -1.9405,
          -1.9295,
          6.3695,
          6.3495,
          6.4515,
          6.3575,
          6.3615,
          6.4175,
          6.3775
         ],
         "locationmode": "country names",
         "lon": [
          36.6405,
          36.8185,
          34.7475,
          36.8215,
          39.6575,
          36.8205,
          36.8205,
          39.5875,
          36.7875,
          36.7895,
          36.8175,
          36.8195,
          36.8175,
          35.2695,
          39.6695,
          36.7905,
          36.6385,
          1.2275,
          1.2275,
          29.3805,
          29.3575,
          17.0675,
          17.0805,
          17.0685,
          31.2115,
          31.1815,
          31.2495,
          55.4105,
          55.5015,
          55.3205,
          55.3015,
          55.4975,
          55.6785,
          55.4275,
          55.6605,
          55.6615,
          55.2995,
          55.4585,
          55.5375,
          55.3195,
          55.3395,
          55.4915,
          55.5205,
          55.3415,
          55.4875,
          55.4595,
          47.5275,
          46.8275,
          47.5485,
          47.5315,
          28.3195,
          28.2785,
          -17.4415,
          -17.3685,
          -17.5015,
          -17.4985,
          -17.4615,
          18.4995,
          25.9115,
          25.9105,
          25.9085,
          25.9195,
          31.0505,
          15.9705,
          -0.1895,
          -0.1885,
          -1.5725,
          -0.1815,
          32.5795,
          32.5795,
          9.4685,
          9.4705,
          18.4895,
          28.0405,
          18.4695,
          18.3795,
          28.2005,
          18.4595,
          26.5175,
          28.0095,
          31.0705,
          28.0305,
          18.4215,
          28.1985,
          28.2005,
          28.2005,
          27.9875,
          31.0875,
          18.4205,
          18.6105,
          28.2195,
          28.1505,
          28.0605,
          18.6075,
          18.4685,
          26.2185,
          18.6295,
          18.4195,
          28.2015,
          28.1885,
          25.5315,
          28.2515,
          18.6315,
          28.2275,
          24.7685,
          28.0385,
          30.7995,
          26.5205,
          18.4905,
          30.9995,
          28.0115,
          18.4685,
          18.8475,
          28.1405,
          30.9415,
          18.4585,
          28.2005,
          28.1285,
          18.4585,
          28.0595,
          19.2395,
          29.1905,
          18.4315,
          31.1285,
          18.4085,
          27.9895,
          18.8495,
          18.4105,
          18.3905,
          29.7805,
          30.3905,
          30.3805,
          27.9695,
          28.0475,
          19.0085,
          30.8485,
          31.0015,
          31.0785,
          30.8295,
          18.4715,
          28.0175,
          28.2475,
          18.4975,
          18.6695,
          28.2005,
          28.1385,
          18.6315,
          28.2015,
          18.4175,
          27.9485,
          39.2885,
          39.2795,
          36.7015,
          39.2585,
          39.2905,
          39.2085,
          39.2115,
          39.2415,
          39.2905,
          32.5705,
          32.5285,
          32.5815,
          -1.5085,
          -1.5225,
          -1.5185,
          -1.5215,
          -1.5225,
          10.1805,
          10.1595,
          10.6975,
          10.8885,
          10.1705,
          34.9975,
          33.7705,
          -6.8705,
          -9.5615,
          38.7885,
          38.7615,
          38.7705,
          38.8195,
          57.4995,
          63.4275,
          57.5275,
          57.4695,
          57.5515,
          43.1585,
          9.7295,
          11.4975,
          32.5805,
          32.5785,
          32.5915,
          35.5315,
          32.5705,
          32.5795,
          8.6785,
          55.4795,
          2.9985,
          2.9975,
          30.0905,
          30.0595,
          30.0975,
          2.3885,
          2.4085,
          2.3515,
          2.4385,
          2.4305,
          2.3405,
          2.4205
         ],
         "marker": {
          "color": "green"
         },
         "mode": "markers",
         "text": "Connected",
         "type": "scattergeo"
        }
       ],
       "layout": {
        "geo": {
         "countrycolor": "rgb(217, 217, 217)",
         "countrywidth": 0.5,
         "landcolor": "rgb(250, 250, 250)",
         "projection": {
          "type": "natural earth"
         },
         "scope": "africa",
         "showland": true,
         "subunitcolor": "rgb(217, 217, 217)",
         "subunitwidth": 0.5
        },
        "showlegend": false,
        "template": {
         "data": {
          "bar": [
           {
            "error_x": {
             "color": "#2a3f5f"
            },
            "error_y": {
             "color": "#2a3f5f"
            },
            "marker": {
             "line": {
              "color": "#E5ECF6",
              "width": 0.5
             }
            },
            "type": "bar"
           }
          ],
          "barpolar": [
           {
            "marker": {
             "line": {
              "color": "#E5ECF6",
              "width": 0.5
             }
            },
            "type": "barpolar"
           }
          ],
          "carpet": [
           {
            "aaxis": {
             "endlinecolor": "#2a3f5f",
             "gridcolor": "white",
             "linecolor": "white",
             "minorgridcolor": "white",
             "startlinecolor": "#2a3f5f"
            },
            "baxis": {
             "endlinecolor": "#2a3f5f",
             "gridcolor": "white",
             "linecolor": "white",
             "minorgridcolor": "white",
             "startlinecolor": "#2a3f5f"
            },
            "type": "carpet"
           }
          ],
          "choropleth": [
           {
            "colorbar": {
             "outlinewidth": 0,
             "ticks": ""
            },
            "type": "choropleth"
           }
          ],
          "contour": [
           {
            "colorbar": {
             "outlinewidth": 0,
             "ticks": ""
            },
            "colorscale": [
             [
              0,
              "#0d0887"
             ],
             [
              0.1111111111111111,
              "#46039f"
             ],
             [
              0.2222222222222222,
              "#7201a8"
             ],
             [
              0.3333333333333333,
              "#9c179e"
             ],
             [
              0.4444444444444444,
              "#bd3786"
             ],
             [
              0.5555555555555556,
              "#d8576b"
             ],
             [
              0.6666666666666666,
              "#ed7953"
             ],
             [
              0.7777777777777778,
              "#fb9f3a"
             ],
             [
              0.8888888888888888,
              "#fdca26"
             ],
             [
              1,
              "#f0f921"
             ]
            ],
            "type": "contour"
           }
          ],
          "contourcarpet": [
           {
            "colorbar": {
             "outlinewidth": 0,
             "ticks": ""
            },
            "type": "contourcarpet"
           }
          ],
          "heatmap": [
           {
            "colorbar": {
             "outlinewidth": 0,
             "ticks": ""
            },
            "colorscale": [
             [
              0,
              "#0d0887"
             ],
             [
              0.1111111111111111,
              "#46039f"
             ],
             [
              0.2222222222222222,
              "#7201a8"
             ],
             [
              0.3333333333333333,
              "#9c179e"
             ],
             [
              0.4444444444444444,
              "#bd3786"
             ],
             [
              0.5555555555555556,
              "#d8576b"
             ],
             [
              0.6666666666666666,
              "#ed7953"
             ],
             [
              0.7777777777777778,
              "#fb9f3a"
             ],
             [
              0.8888888888888888,
              "#fdca26"
             ],
             [
              1,
              "#f0f921"
             ]
            ],
            "type": "heatmap"
           }
          ],
          "heatmapgl": [
           {
            "colorbar": {
             "outlinewidth": 0,
             "ticks": ""
            },
            "colorscale": [
             [
              0,
              "#0d0887"
             ],
             [
              0.1111111111111111,
              "#46039f"
             ],
             [
              0.2222222222222222,
              "#7201a8"
             ],
             [
              0.3333333333333333,
              "#9c179e"
             ],
             [
              0.4444444444444444,
              "#bd3786"
             ],
             [
              0.5555555555555556,
              "#d8576b"
             ],
             [
              0.6666666666666666,
              "#ed7953"
             ],
             [
              0.7777777777777778,
              "#fb9f3a"
             ],
             [
              0.8888888888888888,
              "#fdca26"
             ],
             [
              1,
              "#f0f921"
             ]
            ],
            "type": "heatmapgl"
           }
          ],
          "histogram": [
           {
            "marker": {
             "colorbar": {
              "outlinewidth": 0,
              "ticks": ""
             }
            },
            "type": "histogram"
           }
          ],
          "histogram2d": [
           {
            "colorbar": {
             "outlinewidth": 0,
             "ticks": ""
            },
            "colorscale": [
             [
              0,
              "#0d0887"
             ],
             [
              0.1111111111111111,
              "#46039f"
             ],
             [
              0.2222222222222222,
              "#7201a8"
             ],
             [
              0.3333333333333333,
              "#9c179e"
             ],
             [
              0.4444444444444444,
              "#bd3786"
             ],
             [
              0.5555555555555556,
              "#d8576b"
             ],
             [
              0.6666666666666666,
              "#ed7953"
             ],
             [
              0.7777777777777778,
              "#fb9f3a"
             ],
             [
              0.8888888888888888,
              "#fdca26"
             ],
             [
              1,
              "#f0f921"
             ]
            ],
            "type": "histogram2d"
           }
          ],
          "histogram2dcontour": [
           {
            "colorbar": {
             "outlinewidth": 0,
             "ticks": ""
            },
            "colorscale": [
             [
              0,
              "#0d0887"
             ],
             [
              0.1111111111111111,
              "#46039f"
             ],
             [
              0.2222222222222222,
              "#7201a8"
             ],
             [
              0.3333333333333333,
              "#9c179e"
             ],
             [
              0.4444444444444444,
              "#bd3786"
             ],
             [
              0.5555555555555556,
              "#d8576b"
             ],
             [
              0.6666666666666666,
              "#ed7953"
             ],
             [
              0.7777777777777778,
              "#fb9f3a"
             ],
             [
              0.8888888888888888,
              "#fdca26"
             ],
             [
              1,
              "#f0f921"
             ]
            ],
            "type": "histogram2dcontour"
           }
          ],
          "mesh3d": [
           {
            "colorbar": {
             "outlinewidth": 0,
             "ticks": ""
            },
            "type": "mesh3d"
           }
          ],
          "parcoords": [
           {
            "line": {
             "colorbar": {
              "outlinewidth": 0,
              "ticks": ""
             }
            },
            "type": "parcoords"
           }
          ],
          "pie": [
           {
            "automargin": true,
            "type": "pie"
           }
          ],
          "scatter": [
           {
            "marker": {
             "colorbar": {
              "outlinewidth": 0,
              "ticks": ""
             }
            },
            "type": "scatter"
           }
          ],
          "scatter3d": [
           {
            "line": {
             "colorbar": {
              "outlinewidth": 0,
              "ticks": ""
             }
            },
            "marker": {
             "colorbar": {
              "outlinewidth": 0,
              "ticks": ""
             }
            },
            "type": "scatter3d"
           }
          ],
          "scattercarpet": [
           {
            "marker": {
             "colorbar": {
              "outlinewidth": 0,
              "ticks": ""
             }
            },
            "type": "scattercarpet"
           }
          ],
          "scattergeo": [
           {
            "marker": {
             "colorbar": {
              "outlinewidth": 0,
              "ticks": ""
             }
            },
            "type": "scattergeo"
           }
          ],
          "scattergl": [
           {
            "marker": {
             "colorbar": {
              "outlinewidth": 0,
              "ticks": ""
             }
            },
            "type": "scattergl"
           }
          ],
          "scattermapbox": [
           {
            "marker": {
             "colorbar": {
              "outlinewidth": 0,
              "ticks": ""
             }
            },
            "type": "scattermapbox"
           }
          ],
          "scatterpolar": [
           {
            "marker": {
             "colorbar": {
              "outlinewidth": 0,
              "ticks": ""
             }
            },
            "type": "scatterpolar"
           }
          ],
          "scatterpolargl": [
           {
            "marker": {
             "colorbar": {
              "outlinewidth": 0,
              "ticks": ""
             }
            },
            "type": "scatterpolargl"
           }
          ],
          "scatterternary": [
           {
            "marker": {
             "colorbar": {
              "outlinewidth": 0,
              "ticks": ""
             }
            },
            "type": "scatterternary"
           }
          ],
          "surface": [
           {
            "colorbar": {
             "outlinewidth": 0,
             "ticks": ""
            },
            "colorscale": [
             [
              0,
              "#0d0887"
             ],
             [
              0.1111111111111111,
              "#46039f"
             ],
             [
              0.2222222222222222,
              "#7201a8"
             ],
             [
              0.3333333333333333,
              "#9c179e"
             ],
             [
              0.4444444444444444,
              "#bd3786"
             ],
             [
              0.5555555555555556,
              "#d8576b"
             ],
             [
              0.6666666666666666,
              "#ed7953"
             ],
             [
              0.7777777777777778,
              "#fb9f3a"
             ],
             [
              0.8888888888888888,
              "#fdca26"
             ],
             [
              1,
              "#f0f921"
             ]
            ],
            "type": "surface"
           }
          ],
          "table": [
           {
            "cells": {
             "fill": {
              "color": "#EBF0F8"
             },
             "line": {
              "color": "white"
             }
            },
            "header": {
             "fill": {
              "color": "#C8D4E3"
             },
             "line": {
              "color": "white"
             }
            },
            "type": "table"
           }
          ]
         },
         "layout": {
          "annotationdefaults": {
           "arrowcolor": "#2a3f5f",
           "arrowhead": 0,
           "arrowwidth": 1
          },
          "coloraxis": {
           "colorbar": {
            "outlinewidth": 0,
            "ticks": ""
           }
          },
          "colorscale": {
           "diverging": [
            [
             0,
             "#8e0152"
            ],
            [
             0.1,
             "#c51b7d"
            ],
            [
             0.2,
             "#de77ae"
            ],
            [
             0.3,
             "#f1b6da"
            ],
            [
             0.4,
             "#fde0ef"
            ],
            [
             0.5,
             "#f7f7f7"
            ],
            [
             0.6,
             "#e6f5d0"
            ],
            [
             0.7,
             "#b8e186"
            ],
            [
             0.8,
             "#7fbc41"
            ],
            [
             0.9,
             "#4d9221"
            ],
            [
             1,
             "#276419"
            ]
           ],
           "sequential": [
            [
             0,
             "#0d0887"
            ],
            [
             0.1111111111111111,
             "#46039f"
            ],
            [
             0.2222222222222222,
             "#7201a8"
            ],
            [
             0.3333333333333333,
             "#9c179e"
            ],
            [
             0.4444444444444444,
             "#bd3786"
            ],
            [
             0.5555555555555556,
             "#d8576b"
            ],
            [
             0.6666666666666666,
             "#ed7953"
            ],
            [
             0.7777777777777778,
             "#fb9f3a"
            ],
            [
             0.8888888888888888,
             "#fdca26"
            ],
            [
             1,
             "#f0f921"
            ]
           ],
           "sequentialminus": [
            [
             0,
             "#0d0887"
            ],
            [
             0.1111111111111111,
             "#46039f"
            ],
            [
             0.2222222222222222,
             "#7201a8"
            ],
            [
             0.3333333333333333,
             "#9c179e"
            ],
            [
             0.4444444444444444,
             "#bd3786"
            ],
            [
             0.5555555555555556,
             "#d8576b"
            ],
            [
             0.6666666666666666,
             "#ed7953"
            ],
            [
             0.7777777777777778,
             "#fb9f3a"
            ],
            [
             0.8888888888888888,
             "#fdca26"
            ],
            [
             1,
             "#f0f921"
            ]
           ]
          },
          "colorway": [
           "#636efa",
           "#EF553B",
           "#00cc96",
           "#ab63fa",
           "#FFA15A",
           "#19d3f3",
           "#FF6692",
           "#B6E880",
           "#FF97FF",
           "#FECB52"
          ],
          "font": {
           "color": "#2a3f5f"
          },
          "geo": {
           "bgcolor": "white",
           "lakecolor": "white",
           "landcolor": "#E5ECF6",
           "showlakes": true,
           "showland": true,
           "subunitcolor": "white"
          },
          "hoverlabel": {
           "align": "left"
          },
          "hovermode": "closest",
          "mapbox": {
           "style": "light"
          },
          "paper_bgcolor": "white",
          "plot_bgcolor": "#E5ECF6",
          "polar": {
           "angularaxis": {
            "gridcolor": "white",
            "linecolor": "white",
            "ticks": ""
           },
           "bgcolor": "#E5ECF6",
           "radialaxis": {
            "gridcolor": "white",
            "linecolor": "white",
            "ticks": ""
           }
          },
          "scene": {
           "xaxis": {
            "backgroundcolor": "#E5ECF6",
            "gridcolor": "white",
            "gridwidth": 2,
            "linecolor": "white",
            "showbackground": true,
            "ticks": "",
            "zerolinecolor": "white"
           },
           "yaxis": {
            "backgroundcolor": "#E5ECF6",
            "gridcolor": "white",
            "gridwidth": 2,
            "linecolor": "white",
            "showbackground": true,
            "ticks": "",
            "zerolinecolor": "white"
           },
           "zaxis": {
            "backgroundcolor": "#E5ECF6",
            "gridcolor": "white",
            "gridwidth": 2,
            "linecolor": "white",
            "showbackground": true,
            "ticks": "",
            "zerolinecolor": "white"
           }
          },
          "shapedefaults": {
           "line": {
            "color": "#2a3f5f"
           }
          },
          "ternary": {
           "aaxis": {
            "gridcolor": "white",
            "linecolor": "white",
            "ticks": ""
           },
           "baxis": {
            "gridcolor": "white",
            "linecolor": "white",
            "ticks": ""
           },
           "bgcolor": "#E5ECF6",
           "caxis": {
            "gridcolor": "white",
            "linecolor": "white",
            "ticks": ""
           }
          },
          "title": {
           "x": 0.05
          },
          "xaxis": {
           "automargin": true,
           "gridcolor": "white",
           "linecolor": "white",
           "ticks": "",
           "title": {
            "standoff": 15
           },
           "zerolinecolor": "white",
           "zerolinewidth": 2
          },
          "yaxis": {
           "automargin": true,
           "gridcolor": "white",
           "linecolor": "white",
           "ticks": "",
           "title": {
            "standoff": 15
           },
           "zerolinecolor": "white",
           "zerolinewidth": 2
          }
         }
        },
        "title": {
         "text": "Probes Distribution in Africa October 2020"
        }
       }
      },
      "text/html": [
       "<div>                            <div id=\"f279dce9-a924-4493-a296-58890a21e98e\" class=\"plotly-graph-div\" style=\"height:525px; width:100%;\"></div>            <script type=\"text/javascript\">                require([\"plotly\"], function(Plotly) {                    window.PLOTLYENV=window.PLOTLYENV || {};                                    if (document.getElementById(\"f279dce9-a924-4493-a296-58890a21e98e\")) {                    Plotly.newPlot(                        \"f279dce9-a924-4493-a296-58890a21e98e\",                        [{\"lat\": [-1.1985, -1.2915, -0.1125, -1.2885, -4.0805, -1.2925, -1.2885, -4.0105, -1.2885, -1.2985, -1.2925, -1.2885, -1.2905, 0.5075, -4.0415, -1.2905, -1.2015, 6.1685, 6.1275, -3.3805, -3.3925, -22.5615, -22.5705, -22.5595, 30.0105, 30.4615, 29.9575, -21.2415, -20.9115, -20.9495, -20.9495, -20.9095, -20.9995, -20.8895, -21.3625, -21.3615, -20.9525, -20.8895, -21.1185, -21.0095, -20.9325, -20.9015, -20.9515, -20.9325, -20.9015, -21.2985, -18.9115, -18.7115, -18.9025, -18.9315, -15.3885, -15.4195, 14.6715, 14.7585, 14.7285, 14.7315, 14.6975, -12.4995, -24.6595, -24.6585, -24.6595, -24.6325, -17.8305, -4.3885, 5.6495, 5.5975, 6.6785, 5.5575, 0.3115, 0.3085, 0.3615, 0.4215, -33.9815, -26.1515, -33.9305, -33.9325, -26.1425, -34.0115, -33.3085, -26.1415, -29.7295, -26.1385, -33.9195, -26.1385, -26.1385, -26.1385, -26.0905, -29.7295, -33.9205, -33.8995, -25.7295, -25.8785, -26.2315, -33.9125, -33.9425, -29.1085, -33.8895, -33.9305, -26.1385, -25.8605, -34.0005, -25.6625, -33.8995, -26.0925, -28.7425, -25.9785, -27.0025, -33.3085, -33.9525, -29.8585, -26.0405, -33.9725, -33.9525, -25.8125, -29.7925, -34.0705, -26.1385, -25.9985, -33.9615, -26.1125, -34.4215, -26.5215, -34.1425, -29.5795, -33.9195, -26.0005, -34.0805, -33.9225, -33.9205, -28.5495, -29.6215, -29.6015, -26.0615, -26.2025, -33.6385, -29.7885, -29.7815, -29.7215, -29.7805, -33.9595, -26.0785, -26.0815, -33.9515, -33.8095, -26.1425, -25.9295, -33.9005, -26.1415, -33.9195, -26.1005, -6.8105, -6.7915, -3.3695, -6.7705, -6.8215, -6.7885, -6.7885, -6.7705, -6.8215, 15.5805, 15.5315, 15.6485, 12.3715, 12.3705, 12.3715, 12.3695, 12.3675, 36.8205, 36.7975, 36.4385, 35.6595, 36.7995, -15.7925, -13.9725, 33.9695, 30.4095, 8.9885, 8.9885, 8.9795, 9.0085, -20.2385, -19.6825, -20.3205, -20.1795, -20.3505, 11.5715, 4.0905, 3.8575, -25.9795, -25.9695, -25.9785, -18.6685, -25.9685, -25.9485, 9.0775, -4.6485, 36.7615, 36.7595, -1.9425, -1.9405, -1.9295, 6.3695, 6.3495, 6.4515, 6.3575, 6.3615, 6.4175, 6.3775], \"locationmode\": \"country names\", \"lon\": [36.6405, 36.8185, 34.7475, 36.8215, 39.6575, 36.8205, 36.8205, 39.5875, 36.7875, 36.7895, 36.8175, 36.8195, 36.8175, 35.2695, 39.6695, 36.7905, 36.6385, 1.2275, 1.2275, 29.3805, 29.3575, 17.0675, 17.0805, 17.0685, 31.2115, 31.1815, 31.2495, 55.4105, 55.5015, 55.3205, 55.3015, 55.4975, 55.6785, 55.4275, 55.6605, 55.6615, 55.2995, 55.4585, 55.5375, 55.3195, 55.3395, 55.4915, 55.5205, 55.3415, 55.4875, 55.4595, 47.5275, 46.8275, 47.5485, 47.5315, 28.3195, 28.2785, -17.4415, -17.3685, -17.5015, -17.4985, -17.4615, 18.4995, 25.9115, 25.9105, 25.9085, 25.9195, 31.0505, 15.9705, -0.1895, -0.1885, -1.5725, -0.1815, 32.5795, 32.5795, 9.4685, 9.4705, 18.4895, 28.0405, 18.4695, 18.3795, 28.2005, 18.4595, 26.5175, 28.0095, 31.0705, 28.0305, 18.4215, 28.1985, 28.2005, 28.2005, 27.9875, 31.0875, 18.4205, 18.6105, 28.2195, 28.1505, 28.0605, 18.6075, 18.4685, 26.2185, 18.6295, 18.4195, 28.2015, 28.1885, 25.5315, 28.2515, 18.6315, 28.2275, 24.7685, 28.0385, 30.7995, 26.5205, 18.4905, 30.9995, 28.0115, 18.4685, 18.8475, 28.1405, 30.9415, 18.4585, 28.2005, 28.1285, 18.4585, 28.0595, 19.2395, 29.1905, 18.4315, 31.1285, 18.4085, 27.9895, 18.8495, 18.4105, 18.3905, 29.7805, 30.3905, 30.3805, 27.9695, 28.0475, 19.0085, 30.8485, 31.0015, 31.0785, 30.8295, 18.4715, 28.0175, 28.2475, 18.4975, 18.6695, 28.2005, 28.1385, 18.6315, 28.2015, 18.4175, 27.9485, 39.2885, 39.2795, 36.7015, 39.2585, 39.2905, 39.2085, 39.2115, 39.2415, 39.2905, 32.5705, 32.5285, 32.5815, -1.5085, -1.5225, -1.5185, -1.5215, -1.5225, 10.1805, 10.1595, 10.6975, 10.8885, 10.1705, 34.9975, 33.7705, -6.8705, -9.5615, 38.7885, 38.7615, 38.7705, 38.8195, 57.4995, 63.4275, 57.5275, 57.4695, 57.5515, 43.1585, 9.7295, 11.4975, 32.5805, 32.5785, 32.5915, 35.5315, 32.5705, 32.5795, 8.6785, 55.4795, 2.9985, 2.9975, 30.0905, 30.0595, 30.0975, 2.3885, 2.4085, 2.3515, 2.4385, 2.4305, 2.3405, 2.4205], \"marker\": {\"color\": \"green\"}, \"mode\": \"markers\", \"text\": \"Connected\", \"type\": \"scattergeo\"}],                        {\"geo\": {\"countrycolor\": \"rgb(217, 217, 217)\", \"countrywidth\": 0.5, \"landcolor\": \"rgb(250, 250, 250)\", \"projection\": {\"type\": \"natural earth\"}, \"scope\": \"africa\", \"showland\": true, \"subunitcolor\": \"rgb(217, 217, 217)\", \"subunitwidth\": 0.5}, \"showlegend\": false, \"template\": {\"data\": {\"bar\": [{\"error_x\": {\"color\": \"#2a3f5f\"}, \"error_y\": {\"color\": \"#2a3f5f\"}, \"marker\": {\"line\": {\"color\": \"#E5ECF6\", \"width\": 0.5}}, \"type\": \"bar\"}], \"barpolar\": [{\"marker\": {\"line\": {\"color\": \"#E5ECF6\", \"width\": 0.5}}, \"type\": \"barpolar\"}], \"carpet\": [{\"aaxis\": {\"endlinecolor\": \"#2a3f5f\", \"gridcolor\": \"white\", \"linecolor\": \"white\", \"minorgridcolor\": \"white\", \"startlinecolor\": \"#2a3f5f\"}, \"baxis\": {\"endlinecolor\": \"#2a3f5f\", \"gridcolor\": \"white\", \"linecolor\": \"white\", \"minorgridcolor\": \"white\", \"startlinecolor\": \"#2a3f5f\"}, \"type\": \"carpet\"}], \"choropleth\": [{\"colorbar\": {\"outlinewidth\": 0, \"ticks\": \"\"}, \"type\": \"choropleth\"}], \"contour\": [{\"colorbar\": {\"outlinewidth\": 0, \"ticks\": \"\"}, \"colorscale\": [[0.0, \"#0d0887\"], [0.1111111111111111, \"#46039f\"], [0.2222222222222222, \"#7201a8\"], [0.3333333333333333, \"#9c179e\"], [0.4444444444444444, \"#bd3786\"], [0.5555555555555556, \"#d8576b\"], [0.6666666666666666, \"#ed7953\"], [0.7777777777777778, \"#fb9f3a\"], [0.8888888888888888, \"#fdca26\"], [1.0, \"#f0f921\"]], \"type\": \"contour\"}], \"contourcarpet\": [{\"colorbar\": {\"outlinewidth\": 0, \"ticks\": \"\"}, \"type\": \"contourcarpet\"}], \"heatmap\": [{\"colorbar\": {\"outlinewidth\": 0, \"ticks\": \"\"}, \"colorscale\": [[0.0, \"#0d0887\"], [0.1111111111111111, \"#46039f\"], [0.2222222222222222, \"#7201a8\"], [0.3333333333333333, \"#9c179e\"], [0.4444444444444444, \"#bd3786\"], [0.5555555555555556, \"#d8576b\"], [0.6666666666666666, \"#ed7953\"], [0.7777777777777778, \"#fb9f3a\"], [0.8888888888888888, \"#fdca26\"], [1.0, \"#f0f921\"]], \"type\": \"heatmap\"}], \"heatmapgl\": [{\"colorbar\": {\"outlinewidth\": 0, \"ticks\": \"\"}, \"colorscale\": [[0.0, \"#0d0887\"], [0.1111111111111111, \"#46039f\"], [0.2222222222222222, \"#7201a8\"], [0.3333333333333333, \"#9c179e\"], [0.4444444444444444, \"#bd3786\"], [0.5555555555555556, \"#d8576b\"], [0.6666666666666666, \"#ed7953\"], [0.7777777777777778, \"#fb9f3a\"], [0.8888888888888888, \"#fdca26\"], [1.0, \"#f0f921\"]], \"type\": \"heatmapgl\"}], \"histogram\": [{\"marker\": {\"colorbar\": {\"outlinewidth\": 0, \"ticks\": \"\"}}, \"type\": \"histogram\"}], \"histogram2d\": [{\"colorbar\": {\"outlinewidth\": 0, \"ticks\": \"\"}, \"colorscale\": [[0.0, \"#0d0887\"], [0.1111111111111111, \"#46039f\"], [0.2222222222222222, \"#7201a8\"], [0.3333333333333333, \"#9c179e\"], [0.4444444444444444, \"#bd3786\"], [0.5555555555555556, \"#d8576b\"], [0.6666666666666666, \"#ed7953\"], [0.7777777777777778, \"#fb9f3a\"], [0.8888888888888888, \"#fdca26\"], [1.0, \"#f0f921\"]], \"type\": \"histogram2d\"}], \"histogram2dcontour\": [{\"colorbar\": {\"outlinewidth\": 0, \"ticks\": \"\"}, \"colorscale\": [[0.0, \"#0d0887\"], [0.1111111111111111, \"#46039f\"], [0.2222222222222222, \"#7201a8\"], [0.3333333333333333, \"#9c179e\"], [0.4444444444444444, \"#bd3786\"], [0.5555555555555556, \"#d8576b\"], [0.6666666666666666, \"#ed7953\"], [0.7777777777777778, \"#fb9f3a\"], [0.8888888888888888, \"#fdca26\"], [1.0, \"#f0f921\"]], \"type\": \"histogram2dcontour\"}], \"mesh3d\": [{\"colorbar\": {\"outlinewidth\": 0, \"ticks\": \"\"}, \"type\": \"mesh3d\"}], \"parcoords\": [{\"line\": {\"colorbar\": {\"outlinewidth\": 0, \"ticks\": \"\"}}, \"type\": \"parcoords\"}], \"pie\": [{\"automargin\": true, \"type\": \"pie\"}], \"scatter\": [{\"marker\": {\"colorbar\": {\"outlinewidth\": 0, \"ticks\": \"\"}}, \"type\": \"scatter\"}], \"scatter3d\": [{\"line\": {\"colorbar\": {\"outlinewidth\": 0, \"ticks\": \"\"}}, \"marker\": {\"colorbar\": {\"outlinewidth\": 0, \"ticks\": \"\"}}, \"type\": \"scatter3d\"}], \"scattercarpet\": [{\"marker\": {\"colorbar\": {\"outlinewidth\": 0, \"ticks\": \"\"}}, \"type\": \"scattercarpet\"}], \"scattergeo\": [{\"marker\": {\"colorbar\": {\"outlinewidth\": 0, \"ticks\": \"\"}}, \"type\": \"scattergeo\"}], \"scattergl\": [{\"marker\": {\"colorbar\": {\"outlinewidth\": 0, \"ticks\": \"\"}}, \"type\": \"scattergl\"}], \"scattermapbox\": [{\"marker\": {\"colorbar\": {\"outlinewidth\": 0, \"ticks\": \"\"}}, \"type\": \"scattermapbox\"}], \"scatterpolar\": [{\"marker\": {\"colorbar\": {\"outlinewidth\": 0, \"ticks\": \"\"}}, \"type\": \"scatterpolar\"}], \"scatterpolargl\": [{\"marker\": {\"colorbar\": {\"outlinewidth\": 0, \"ticks\": \"\"}}, \"type\": \"scatterpolargl\"}], \"scatterternary\": [{\"marker\": {\"colorbar\": {\"outlinewidth\": 0, \"ticks\": \"\"}}, \"type\": \"scatterternary\"}], \"surface\": [{\"colorbar\": {\"outlinewidth\": 0, \"ticks\": \"\"}, \"colorscale\": [[0.0, \"#0d0887\"], [0.1111111111111111, \"#46039f\"], [0.2222222222222222, \"#7201a8\"], [0.3333333333333333, \"#9c179e\"], [0.4444444444444444, \"#bd3786\"], [0.5555555555555556, \"#d8576b\"], [0.6666666666666666, \"#ed7953\"], [0.7777777777777778, \"#fb9f3a\"], [0.8888888888888888, \"#fdca26\"], [1.0, \"#f0f921\"]], \"type\": \"surface\"}], \"table\": [{\"cells\": {\"fill\": {\"color\": \"#EBF0F8\"}, \"line\": {\"color\": \"white\"}}, \"header\": {\"fill\": {\"color\": \"#C8D4E3\"}, \"line\": {\"color\": \"white\"}}, \"type\": \"table\"}]}, \"layout\": {\"annotationdefaults\": {\"arrowcolor\": \"#2a3f5f\", \"arrowhead\": 0, \"arrowwidth\": 1}, \"coloraxis\": {\"colorbar\": {\"outlinewidth\": 0, \"ticks\": \"\"}}, \"colorscale\": {\"diverging\": [[0, \"#8e0152\"], [0.1, \"#c51b7d\"], [0.2, \"#de77ae\"], [0.3, \"#f1b6da\"], [0.4, \"#fde0ef\"], [0.5, \"#f7f7f7\"], [0.6, \"#e6f5d0\"], [0.7, \"#b8e186\"], [0.8, \"#7fbc41\"], [0.9, \"#4d9221\"], [1, \"#276419\"]], \"sequential\": [[0.0, \"#0d0887\"], [0.1111111111111111, \"#46039f\"], [0.2222222222222222, \"#7201a8\"], [0.3333333333333333, \"#9c179e\"], [0.4444444444444444, \"#bd3786\"], [0.5555555555555556, \"#d8576b\"], [0.6666666666666666, \"#ed7953\"], [0.7777777777777778, \"#fb9f3a\"], [0.8888888888888888, \"#fdca26\"], [1.0, \"#f0f921\"]], \"sequentialminus\": [[0.0, \"#0d0887\"], [0.1111111111111111, \"#46039f\"], [0.2222222222222222, \"#7201a8\"], [0.3333333333333333, \"#9c179e\"], [0.4444444444444444, \"#bd3786\"], [0.5555555555555556, \"#d8576b\"], [0.6666666666666666, \"#ed7953\"], [0.7777777777777778, \"#fb9f3a\"], [0.8888888888888888, \"#fdca26\"], [1.0, \"#f0f921\"]]}, \"colorway\": [\"#636efa\", \"#EF553B\", \"#00cc96\", \"#ab63fa\", \"#FFA15A\", \"#19d3f3\", \"#FF6692\", \"#B6E880\", \"#FF97FF\", \"#FECB52\"], \"font\": {\"color\": \"#2a3f5f\"}, \"geo\": {\"bgcolor\": \"white\", \"lakecolor\": \"white\", \"landcolor\": \"#E5ECF6\", \"showlakes\": true, \"showland\": true, \"subunitcolor\": \"white\"}, \"hoverlabel\": {\"align\": \"left\"}, \"hovermode\": \"closest\", \"mapbox\": {\"style\": \"light\"}, \"paper_bgcolor\": \"white\", \"plot_bgcolor\": \"#E5ECF6\", \"polar\": {\"angularaxis\": {\"gridcolor\": \"white\", \"linecolor\": \"white\", \"ticks\": \"\"}, \"bgcolor\": \"#E5ECF6\", \"radialaxis\": {\"gridcolor\": \"white\", \"linecolor\": \"white\", \"ticks\": \"\"}}, \"scene\": {\"xaxis\": {\"backgroundcolor\": \"#E5ECF6\", \"gridcolor\": \"white\", \"gridwidth\": 2, \"linecolor\": \"white\", \"showbackground\": true, \"ticks\": \"\", \"zerolinecolor\": \"white\"}, \"yaxis\": {\"backgroundcolor\": \"#E5ECF6\", \"gridcolor\": \"white\", \"gridwidth\": 2, \"linecolor\": \"white\", \"showbackground\": true, \"ticks\": \"\", \"zerolinecolor\": \"white\"}, \"zaxis\": {\"backgroundcolor\": \"#E5ECF6\", \"gridcolor\": \"white\", \"gridwidth\": 2, \"linecolor\": \"white\", \"showbackground\": true, \"ticks\": \"\", \"zerolinecolor\": \"white\"}}, \"shapedefaults\": {\"line\": {\"color\": \"#2a3f5f\"}}, \"ternary\": {\"aaxis\": {\"gridcolor\": \"white\", \"linecolor\": \"white\", \"ticks\": \"\"}, \"baxis\": {\"gridcolor\": \"white\", \"linecolor\": \"white\", \"ticks\": \"\"}, \"bgcolor\": \"#E5ECF6\", \"caxis\": {\"gridcolor\": \"white\", \"linecolor\": \"white\", \"ticks\": \"\"}}, \"title\": {\"x\": 0.05}, \"xaxis\": {\"automargin\": true, \"gridcolor\": \"white\", \"linecolor\": \"white\", \"ticks\": \"\", \"title\": {\"standoff\": 15}, \"zerolinecolor\": \"white\", \"zerolinewidth\": 2}, \"yaxis\": {\"automargin\": true, \"gridcolor\": \"white\", \"linecolor\": \"white\", \"ticks\": \"\", \"title\": {\"standoff\": 15}, \"zerolinecolor\": \"white\", \"zerolinewidth\": 2}}}, \"title\": {\"text\": \"Probes Distribution in Africa October 2020\"}},                        {\"responsive\": true}                    ).then(function(){\n",
       "                            \n",
       "var gd = document.getElementById('f279dce9-a924-4493-a296-58890a21e98e');\n",
       "var x = new MutationObserver(function (mutations, observer) {{\n",
       "        var display = window.getComputedStyle(gd).display;\n",
       "        if (!display || display === 'none') {{\n",
       "            console.log([gd, 'removed!']);\n",
       "            Plotly.purge(gd);\n",
       "            observer.disconnect();\n",
       "        }}\n",
       "}});\n",
       "\n",
       "// Listen for the removal of the full notebook cells\n",
       "var notebookContainer = gd.closest('#notebook-container');\n",
       "if (notebookContainer) {{\n",
       "    x.observe(notebookContainer, {childList: true});\n",
       "}}\n",
       "\n",
       "// Listen for the clearing of the current output cell\n",
       "var outputEl = gd.closest('.output');\n",
       "if (outputEl) {{\n",
       "    x.observe(outputEl, {childList: true});\n",
       "}}\n",
       "\n",
       "                        })                };                });            </script>        </div>"
      ]
     },
     "metadata": {},
     "output_type": "display_data"
    }
   ],
   "source": [
    "import plotly.graph_objects as go\n",
    "\n",
    "import pandas as pd\n",
    "\n",
    "df_Prb = pd.read_csv('/home/tunde/GIT_PROJECTS/RIPE_ANALYSIS/African_Probes_Status/csv_data_files_probes/2020_africa_probes.csv')\n",
    "\n",
    "fig = go.Figure(data=go.Scattergeo(\n",
    "\n",
    "        locationmode = 'country names',\n",
    "        lon = df_Prb[df_Prb['status'] == 1 ]['longitude'],\n",
    "        lat = df_Prb[df_Prb['status'] == 1 ]['latitude'],\n",
    "        text = 'Connected',\n",
    "        mode = 'markers',\n",
    "        marker = dict(color = 'green')\n",
    "\n",
    "    \n",
    "\n",
    "))\n",
    "\n",
    "fig.update_layout(\n",
    "        title = 'Probes Distribution in Africa October 2020',\n",
    "          geo = dict(\n",
    "            scope='africa',\n",
    "            projection_type=\"natural earth\",\n",
    "            showland = True,\n",
    "            landcolor = \"rgb(250, 250, 250)\",\n",
    "            subunitcolor = \"rgb(217, 217, 217)\",\n",
    "            countrycolor = \"rgb(217, 217, 217)\",\n",
    "            countrywidth = 0.5,\n",
    "            subunitwidth = 0.5\n",
    "        ),\n",
    "            showlegend=False\n",
    "    \n",
    "\n",
    ")\n",
    "fig.show()\n"
   ]
  },
  {
   "cell_type": "code",
   "execution_count": null,
   "metadata": {},
   "outputs": [],
   "source": []
  },
  {
   "cell_type": "code",
   "execution_count": null,
   "metadata": {},
   "outputs": [],
   "source": []
  }
 ],
 "metadata": {
  "kernelspec": {
   "display_name": "Python 3",
   "language": "python",
   "name": "python3"
  },
  "language_info": {
   "codemirror_mode": {
    "name": "ipython",
    "version": 3
   },
   "file_extension": ".py",
   "mimetype": "text/x-python",
   "name": "python",
   "nbconvert_exporter": "python",
   "pygments_lexer": "ipython3",
   "version": "3.7.3"
  }
 },
 "nbformat": 4,
 "nbformat_minor": 4
}
